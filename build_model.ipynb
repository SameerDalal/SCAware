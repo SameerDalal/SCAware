{
 "cells": [
  {
   "cell_type": "code",
   "execution_count": null,
   "metadata": {},
   "outputs": [],
   "source": [
    "import wfdb\n",
    "import numpy as np\n",
    "import os\n",
    "\n",
    "def segment_data(folder_path, segment_length, step_size):\n",
    "    segments = []\n",
    "   \n",
    "    for file in os.listdir(folder_path):\n",
    "        if file.endswith('.dat'):\n",
    "            file_name = file.split('.')[0]\n",
    "            \n",
    "            record = wfdb.rdrecord(os.path.join(folder_path, file_name))\n",
    "            ecg_signal = record.p_signal\n",
    "\n",
    "            # only process the first two ecg channels\n",
    "            ecg_signal = ecg_signal[:, :2]\n",
    "\n",
    "            ecg_signal = ecg_signal.astype(np.float32)\n",
    "\n",
    "            for start in range(0, len(ecg_signal) - segment_length, step_size):\n",
    "                end = start + segment_length\n",
    "                segment = ecg_signal[start:end]\n",
    "                segments.append(segment)\n",
    "           \n",
    "    return np.array(segments)\n",
    "\n",
    "segment_length = 10000\n",
    "step_size = 5000\n",
    "\n",
    "sca_folder = './data/train_data/SCD' # data in 200 Hz\n",
    "normal_folder = './data/train_data/normal' # data in 128 Hz\n",
    "\n",
    "sca_segments = segment_data(sca_folder, segment_length, step_size) \n",
    "normal_segments = segment_data(normal_folder, segment_length, step_size) \n",
    "\n",
    "print(sca_segments.shape)\n",
    "print(normal_segments.shape)\n"
   ]
  },
  {
   "cell_type": "code",
   "execution_count": 12,
   "metadata": {},
   "outputs": [],
   "source": [
    "# normalize the data\n",
    "sca_segments_normalized = sca_segments / np.max(np.abs(sca_segments), axis=1, keepdims=True)\n",
    "normal_segments_normalized = normal_segments / np.max(np.abs(normal_segments), axis=1, keepdims=True)"
   ]
  },
  {
   "cell_type": "code",
   "execution_count": null,
   "metadata": {},
   "outputs": [],
   "source": [
    "from sklearn.model_selection import train_test_split\n",
    "\n",
    "#label data\n",
    "sca_label = np.ones(len(sca_segments_normalized))\n",
    "normal_label = np.zeros(len(normal_segments_normalized))\n",
    "\n",
    "X_num_data_points = 70051\n",
    "Y_num_data_points = 70051\n",
    "\n",
    "X = np.concatenate([sca_segments_normalized[:X_num_data_points], normal_segments_normalized[:X_num_data_points]], axis=0)\n",
    "Y = np.concatenate([sca_label[:Y_num_data_points], normal_label[:Y_num_data_points]], axis=0)\n",
    "\n",
    "X = X.astype(np.float32)\n",
    "Y = Y.astype(np.float32)\n",
    "\n",
    "X_train, X_test, Y_train, Y_test = train_test_split(X, Y, test_size=0.2, random_state=42)\n",
    "\n",
    "print(f\"Training data shape: {X_train.shape}\")\n",
    "print(f\"Test data shape: {X_test.shape}\")\n"
   ]
  },
  {
   "cell_type": "code",
   "execution_count": null,
   "metadata": {},
   "outputs": [],
   "source": [
    "import tensorflow as tf\n",
    "from tensorflow.keras import layers, models\n",
    "\n",
    "\n",
    "def create_model(input_shape):\n",
    "    model = models.Sequential()\n",
    "\n",
    "    model.add(layers.Conv1D(32, 3, activation='relu', input_shape=input_shape))\n",
    "    model.add(layers.MaxPooling1D(2))\n",
    "    \n",
    "    model.add(layers.Conv1D(64, 3, activation='relu'))\n",
    "    model.add(layers.MaxPooling1D(2))\n",
    "    \n",
    "    model.add(layers.Flatten())\n",
    "\n",
    "    model.add(layers.Dense(64, activation='relu'))\n",
    "    model.add(layers.Dense(1, activation='sigmoid'))\n",
    "\n",
    "    model.compile(optimizer='adam', loss='binary_crossentropy', metrics=['accuracy'])\n",
    "    return model\n",
    "\n",
    "model = create_model(input_shape=(10000, 2))  # Each sample has 10000 time steps and 2 channels\n",
    "\n",
    "model.fit(X_train, Y_train, epochs=10, batch_size=32, validation_data=(X_test, Y_test))\n",
    "\n",
    "loss, accuracy = model.evaluate(X_test, Y_test)\n",
    "print(f\"Test Loss: {loss}\")\n",
    "print(f\"Test Accuracy: {accuracy}\")"
   ]
  },
  {
   "cell_type": "code",
   "execution_count": null,
   "metadata": {},
   "outputs": [],
   "source": [
    "keras_file_path = './models/model_3/keras/'\n",
    "h5_file_path = './models/model_3/h5/'\n",
    "exported_model_file_path = './models/model_3/exported_model'\n",
    "onnx_file_path = './models/model_3/onnx/'\n",
    "\n",
    "os.makedirs(os.path.dirname(keras_file_path), exist_ok=True)\n",
    "os.makedirs(os.path.dirname(h5_file_path), exist_ok=True)\n",
    "os.makedirs(os.path.dirname(exported_model_file_path), exist_ok=True)\n",
    "os.makedirs(os.path.dirname(onnx_file_path), exist_ok=True)\n",
    "\n",
    "model.save(keras_file_path + 'scd_model.keras')\n",
    "model.save(h5_file_path + 'scd_model.h5')\n",
    "model.export(exported_model_file_path)\n",
    "!python -m tf2onnx.convert --saved-model ./models/model_3/exported_model --output ./models/model_3/onnx/scd_model.onnx --opset 13"
   ]
  }
 ],
 "metadata": {
  "kernelspec": {
   "display_name": "Python 3",
   "language": "python",
   "name": "python3"
  },
  "language_info": {
   "codemirror_mode": {
    "name": "ipython",
    "version": 3
   },
   "file_extension": ".py",
   "mimetype": "text/x-python",
   "name": "python",
   "nbconvert_exporter": "python",
   "pygments_lexer": "ipython3",
   "version": "3.12.4"
  }
 },
 "nbformat": 4,
 "nbformat_minor": 2
}
